{
 "cells": [
  {
   "cell_type": "code",
   "execution_count": 1,
   "metadata": {},
   "outputs": [],
   "source": [
    "import numpy as np\n",
    "\n",
    "import utils.general"
   ]
  },
  {
   "cell_type": "code",
   "execution_count": 2,
   "metadata": {},
   "outputs": [
    {
     "name": "stderr",
     "output_type": "stream",
     "text": [
      "Found local copy...\n"
     ]
    }
   ],
   "source": [
    "train_val, test = utils.general.load_dti_data()"
   ]
  },
  {
   "cell_type": "code",
   "execution_count": 19,
   "metadata": {},
   "outputs": [],
   "source": [
    "x, y = utils.general.format_input(data=test, num_samples=10, seed=1)"
   ]
  },
  {
   "cell_type": "code",
   "execution_count": 20,
   "metadata": {},
   "outputs": [],
   "source": [
    "client = utils.general.create_openai_client()"
   ]
  },
  {
   "cell_type": "code",
   "execution_count": 22,
   "metadata": {},
   "outputs": [
    {
     "name": "stdout",
     "output_type": "stream",
     "text": [
      "Pearson Correlation Coefficient: 0.298\n",
      "With log: 0.34\n",
      "\n",
      "[[ 5.01063529  2.30258509]\n",
      " [ 5.70378247  1.60943791]\n",
      " [ 5.52146092  9.21034037]\n",
      " [ 5.29831737  1.60943791]\n",
      " [ 5.19295685 -0.63487827]\n",
      " [ 5.39362755  6.44571982]\n",
      " [ 5.59842196  4.82831374]\n",
      " [ 5.43807931  2.89037176]\n",
      " [ 5.24702407  3.91202301]\n",
      " [ 5.34710753  5.29831737]]\n"
     ]
    }
   ],
   "source": [
    "notools_assistant = client.beta.assistants.create(\n",
    "    model='gpt-4o',\n",
    "    name='No-Tools',\n",
    "    instructions=(\n",
    "'''You are an artificial super-intelligence capable of solving computational biology problems with very little information available to you.\n",
    "You are tasked with computing the dissociation constant (Kd) between a drug molecule given by its SMILES string and a target protein given by its amino acid sequence.\n",
    "Every query will consist of a number of rows, each of which has the SMILES string of a drug molecule, followed by a space, and then the amino acid sequence of the target protein, concluded by a newline.\n",
    "For each row, you must predict the dissociation constant Kd.\n",
    "The answers should be in units of nanomolar (nM).\n",
    "Please preface each answer with three less than signs and a space, and finish each answer with a space and three greater than signs, with only a numerical value inside.\n",
    "Here is an example of an input row:\n",
    "O=C(O)CCC(=O)C(=O)O MANDSGGPGGPSPSERDRQYCELCGKMENLLRCSRCRSSFYCCKEHQRQDWKKHKLVCQGSEGALGHGVGPHQHSGPAPPAAVPPPRAGAREPRKAAARRDNASGDAAKGKVKAKPPADPAAAASPCRAAAGGQGSAVAAEAEPGKEEPPARSSLFQEKANLYPPSNTPGDALSPGGGLRPNGQTKPLPALKLALEYIVPCMNKHGICVVDDFLGKETGQQIGDEVRALHDTGKFTDGQLVSQKSDSSKDIRGDKITWIEGKEPGCETIGLLMSSMDDLIRHCNGKLGSYKINGRTKAMVACYPGNGTGYVRHVDNPNGDGRCVTCIYYLNKDWDAKVSGGILRIFPEGKAQFADIEPKFDRLLFFWSDRRNPHEVQPAYATRYAITVWYFDADERARAKVKYLTGEKGVRVELNKPSDSVGKDVF\n",
    "If the query were to contain that input row, you would report the following:\n",
    ">>> 900.0 <<<\n",
    "You must make your best estimate of a numerical value for each row.\n",
    "Make sure that each row has exactly one answer.\n",
    "There should be exactly one answer for each molecule and protein pair.'''\n",
    "    ),\n",
    "    tools=[],\n",
    "    temperature=0.2\n",
    ")\n",
    "\n",
    "max_tries = 5\n",
    "tries = 0\n",
    "finished = False\n",
    "success = False\n",
    "while not finished:\n",
    "    try:\n",
    "        thread = client.beta.threads.create()\n",
    "\n",
    "        message = client.beta.threads.messages.create(\n",
    "            thread_id=thread.id,\n",
    "            role='user',\n",
    "            content=x\n",
    "        )\n",
    "\n",
    "        run = client.beta.threads.runs.create_and_poll(\n",
    "        thread_id=thread.id,\n",
    "        assistant_id=notools_assistant.id\n",
    "        )\n",
    "\n",
    "        messages = client.beta.threads.messages.list(thread_id=thread.id)\n",
    "\n",
    "        res = messages.model_dump()['data'][0]['content'][0]['text']['value']\n",
    "\n",
    "        pred = utils.general.extract_predictions(res)\n",
    "\n",
    "        score = utils.general.score_predictions(pred, y)\n",
    "        log_score = utils.general.score_predictions(np.log(pred), y)\n",
    "        finished = True\n",
    "        success = True\n",
    "    except AssertionError:\n",
    "        tries += 1\n",
    "        if tries == max_tries:\n",
    "            finished = True\n",
    "if finished and success:\n",
    "    print('Pearson Correlation Coefficient: {0:.3}'.format(score))\n",
    "    print('With log: {0:.3}\\n'.format(log_score))\n",
    "    print(np.vstack([np.log(pred), y]).T)"
   ]
  },
  {
   "cell_type": "code",
   "execution_count": null,
   "metadata": {},
   "outputs": [],
   "source": []
  }
 ],
 "metadata": {
  "kernelspec": {
   "display_name": "cs159",
   "language": "python",
   "name": "cs159"
  },
  "language_info": {
   "codemirror_mode": {
    "name": "ipython",
    "version": 3
   },
   "file_extension": ".py",
   "mimetype": "text/x-python",
   "name": "python",
   "nbconvert_exporter": "python",
   "pygments_lexer": "ipython3",
   "version": "3.12.3"
  }
 },
 "nbformat": 4,
 "nbformat_minor": 2
}
